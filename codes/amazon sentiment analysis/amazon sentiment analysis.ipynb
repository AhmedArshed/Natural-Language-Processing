{
 "cells": [
  {
   "cell_type": "markdown",
   "metadata": {},
   "source": [
    "## Sentiment Analysis - NLP Project\n",
    "\n",
    "### Algorithems used: \n",
    "#### Naive Bayes Classifier\n",
    "#### Logistic Regression\n",
    "\n",
    "### Submitted to: Sir Muhammad Taimoor Khan"
   ]
  },
  {
   "cell_type": "markdown",
   "metadata": {},
   "source": [
    "## Group Partners: \n",
    "\n",
    "### Zeeshan Haider Shaheen(p15-6064)\n",
    "### Muhammad Ahmad Arshad(p17-6099)\n",
    "### Ahmad Hassan(p17-6021)"
   ]
  },
  {
   "cell_type": "markdown",
   "metadata": {},
   "source": [
    "## Importing Libraries "
   ]
  },
  {
   "cell_type": "code",
   "execution_count": null,
   "metadata": {},
   "outputs": [],
   "source": [
    "import nltk\n",
    "import pandas as pd\n",
    "import numpy as np"
   ]
  },
  {
   "cell_type": "markdown",
   "metadata": {},
   "source": [
    "## Importing Data "
   ]
  },
  {
   "cell_type": "code",
   "execution_count": null,
   "metadata": {},
   "outputs": [],
   "source": [
    "data1 = open('amazon_cells_labelled.txt')\n",
    "text=data1.read()"
   ]
  },
  {
   "cell_type": "code",
   "execution_count": null,
   "metadata": {},
   "outputs": [],
   "source": [
    "import re\n",
    "sent=re.findall(r'.*\\n',text)\n",
    "sent"
   ]
  },
  {
   "cell_type": "code",
   "execution_count": null,
   "metadata": {},
   "outputs": [],
   "source": [
    "sent=[(line[:-3],int(line[-2])) for line in sent]\n",
    "sent"
   ]
  },
  {
   "cell_type": "code",
   "execution_count": null,
   "metadata": {},
   "outputs": [],
   "source": [
    "data=pd.DataFrame(sent,columns=['review','score'])\n",
    "data"
   ]
  },
  {
   "cell_type": "code",
   "execution_count": null,
   "metadata": {},
   "outputs": [],
   "source": [
    "y = data['score']"
   ]
  },
  {
   "cell_type": "code",
   "execution_count": null,
   "metadata": {},
   "outputs": [],
   "source": [
    "print(sum(data['score']))"
   ]
  },
  {
   "cell_type": "markdown",
   "metadata": {},
   "source": [
    "## Pre-processing "
   ]
  },
  {
   "cell_type": "code",
   "execution_count": null,
   "metadata": {},
   "outputs": [],
   "source": [
    "import string\n",
    "from nltk.corpus import stopwords\n",
    "def pre_process(text):\n",
    "    clean_text=[char for char in text if char not in string.punctuation]\n",
    "    clean_text=\"\".join(clean_text)\n",
    "    clean_text=[words for words in clean_text.split() if words not in stopwords.words('english')]\n",
    "    return clean_text"
   ]
  },
  {
   "cell_type": "code",
   "execution_count": null,
   "metadata": {},
   "outputs": [],
   "source": [
    "from sklearn.feature_extraction.text import CountVectorizer\n",
    "x = CountVectorizer(analyzer=pre_process).fit(data['review'])"
   ]
  },
  {
   "cell_type": "code",
   "execution_count": null,
   "metadata": {},
   "outputs": [],
   "source": [
    "x = x.transform(data['review'])\n",
    "print(x)"
   ]
  },
  {
   "cell_type": "markdown",
   "metadata": {},
   "source": [
    "## Data Splitting"
   ]
  },
  {
   "cell_type": "code",
   "execution_count": null,
   "metadata": {},
   "outputs": [],
   "source": [
    "from sklearn.model_selection import train_test_split\n",
    "x_train, x_test, y_train, y_test = train_test_split(x, y, test_size=0.1, random_state=700)"
   ]
  },
  {
   "cell_type": "code",
   "execution_count": null,
   "metadata": {},
   "outputs": [],
   "source": [
    "print(x_train.shape)\n",
    "print(y_train.shape)\n",
    "print(x_test.shape)\n",
    "print(y_test.shape)"
   ]
  },
  {
   "cell_type": "markdown",
   "metadata": {},
   "source": [
    "## Using Naive_bayes  "
   ]
  },
  {
   "cell_type": "code",
   "execution_count": null,
   "metadata": {},
   "outputs": [],
   "source": [
    "from sklearn.naive_bayes import MultinomialNB\n",
    "nb=MultinomialNB()\n",
    "nb.fit(x_train,y_train)"
   ]
  },
  {
   "cell_type": "markdown",
   "metadata": {},
   "source": [
    "## Accuracy "
   ]
  },
  {
   "cell_type": "code",
   "execution_count": null,
   "metadata": {},
   "outputs": [],
   "source": [
    "pred=nb.predict(x_test)\n",
    "from sklearn.metrics import accuracy_score\n",
    "print(\"ACCURACY : \"+str(accuracy_score(y_test,pred)))"
   ]
  },
  {
   "cell_type": "code",
   "execution_count": null,
   "metadata": {},
   "outputs": [],
   "source": [
    "from nltk.corpus import wordnet as wnet\n",
    "from nltk.corpus import sentiwordnet as swnet"
   ]
  },
  {
   "cell_type": "markdown",
   "metadata": {},
   "source": [
    "## Test cases "
   ]
  },
  {
   "cell_type": "code",
   "execution_count": null,
   "metadata": {},
   "outputs": [],
   "source": [
    "test = input(\"Enter a sentence to be checked veview:  \")\n",
    "tokens = test.split(' ')\n",
    "pos_total = 0\n",
    "neg_total = 0\n",
    "for t in tokens:\n",
    "    syn_t = wnet.synsets(t)\n",
    "    if len(syn_t) > 0:\n",
    "        syn_t = syn_t[0]\n",
    "        senti_syn_t = swnet.senti_synset(syn_t.name())\n",
    "        if senti_syn_t.pos_score() > senti_syn_t.neg_score():\n",
    "            pos_total += senti_syn_t.pos_score()\n",
    "        else:\n",
    "            neg_total += senti_syn_t.neg_score()\n",
    "total_score = pos_total - neg_total\n",
    "\n",
    "x = CountVectorizer(analyzer=pre_process).fit(data['review'])\n",
    "test=x.transform([test])\n",
    "\n",
    "if (nb.predict(test)[0] == 1):\n",
    "    print(\"True review with score of \", total_score)\n",
    "else:\n",
    "    print(\"Fake review with score of \", total_score)"
   ]
  },
  {
   "cell_type": "code",
   "execution_count": null,
   "metadata": {},
   "outputs": [],
   "source": [
    "test = input(\"Enter a sentence to be checked veview:  \")\n",
    "tokens = test.split(' ')\n",
    "pos_total = 0\n",
    "neg_total = 0\n",
    "for t in tokens:\n",
    "    syn_t = wnet.synsets(t)\n",
    "    if len(syn_t) > 0:\n",
    "        syn_t = syn_t[0]\n",
    "        senti_syn_t = swnet.senti_synset(syn_t.name())\n",
    "        if senti_syn_t.pos_score() > senti_syn_t.neg_score():\n",
    "            pos_total += senti_syn_t.pos_score()\n",
    "        else:\n",
    "            neg_total += senti_syn_t.neg_score()\n",
    "total_score = pos_total - neg_total\n",
    "\n",
    "x = CountVectorizer(analyzer=pre_process).fit(data['review'])\n",
    "test=x.transform([test])\n",
    "\n",
    "if (nb.predict(test)[0] == 1):\n",
    "    print(\"True review with score of \", total_score)\n",
    "else:\n",
    "    print(\"Fake review with score of \", total_score)"
   ]
  },
  {
   "cell_type": "code",
   "execution_count": null,
   "metadata": {},
   "outputs": [],
   "source": [
    "test = input(\"Enter a sentence to be checked veview:  \")\n",
    "tokens = test.split(' ')\n",
    "pos_total = 0\n",
    "neg_total = 0\n",
    "for t in tokens:\n",
    "    syn_t = wnet.synsets(t)\n",
    "    if len(syn_t) > 0:\n",
    "        syn_t = syn_t[0]\n",
    "        senti_syn_t = swnet.senti_synset(syn_t.name())\n",
    "        if senti_syn_t.pos_score() > senti_syn_t.neg_score():\n",
    "            pos_total += senti_syn_t.pos_score()\n",
    "        else:\n",
    "            neg_total += senti_syn_t.neg_score()\n",
    "total_score = pos_total - neg_total\n",
    "\n",
    "x = CountVectorizer(analyzer=pre_process).fit(data['review'])\n",
    "test=x.transform([test])\n",
    "\n",
    "if (nb.predict(test)[0] == 1):\n",
    "    print(\"True review with score of \", total_score)\n",
    "else:\n",
    "    print(\"Fake review with score of \", total_score)"
   ]
  },
  {
   "cell_type": "code",
   "execution_count": null,
   "metadata": {},
   "outputs": [],
   "source": [
    "test = input(\"Enter a sentence to be checked veview:  \")\n",
    "tokens = test.split(' ')\n",
    "pos_total = 0\n",
    "neg_total = 0\n",
    "for t in tokens:\n",
    "    syn_t = wnet.synsets(t)\n",
    "    if len(syn_t) > 0:\n",
    "        syn_t = syn_t[0]\n",
    "        senti_syn_t = swnet.senti_synset(syn_t.name())\n",
    "        if senti_syn_t.pos_score() > senti_syn_t.neg_score():\n",
    "            pos_total += senti_syn_t.pos_score()\n",
    "        else:\n",
    "            neg_total += senti_syn_t.neg_score()\n",
    "total_score = pos_total - neg_total\n",
    "\n",
    "x = CountVectorizer(analyzer=pre_process).fit(data['review'])\n",
    "test=x.transform([test])\n",
    "\n",
    "if (nb.predict(test)[0] == 1):\n",
    "    print(\"True review with score of \", total_score)\n",
    "else:\n",
    "    print(\"Fake review with score of \", total_score)"
   ]
  },
  {
   "cell_type": "markdown",
   "metadata": {},
   "source": [
    "## Using Logistic Regression  "
   ]
  },
  {
   "cell_type": "code",
   "execution_count": null,
   "metadata": {},
   "outputs": [],
   "source": [
    "from sklearn.linear_model import LogisticRegression\n",
    "logreg = LogisticRegression()\n",
    "logreg.fit(x_train, y_train)\n",
    "y_pred_train = logreg.predict(x_train)\n",
    "print(\"Training Accuracy: \"), logreg.score(x_train, y_train)"
   ]
  },
  {
   "cell_type": "code",
   "execution_count": null,
   "metadata": {},
   "outputs": [],
   "source": [
    "y_pred_test = logreg.predict(x_test)\n",
    "print(\"Test Accuracy: \"), logreg.score(x_test, y_test)"
   ]
  },
  {
   "cell_type": "markdown",
   "metadata": {},
   "source": [
    "## Testing Cases"
   ]
  },
  {
   "cell_type": "code",
   "execution_count": null,
   "metadata": {},
   "outputs": [],
   "source": [
    "test = input(\"Enter a sentence to be checked veview:  \")\n",
    "tokens = test.split(' ')\n",
    "pos_total = 0\n",
    "neg_total = 0\n",
    "for t in tokens:\n",
    "    syn_t = wnet.synsets(t)\n",
    "    if len(syn_t) > 0:\n",
    "        syn_t = syn_t[0]\n",
    "        senti_syn_t = swnet.senti_synset(syn_t.name())\n",
    "        if senti_syn_t.pos_score() > senti_syn_t.neg_score():\n",
    "            pos_total += senti_syn_t.pos_score()\n",
    "        else:\n",
    "            neg_total += senti_syn_t.neg_score()\n",
    "total_score = pos_total - neg_total\n",
    "\n",
    "x = CountVectorizer(analyzer=pre_process).fit(data['review'])\n",
    "test=x.transform([test])\n",
    "\n",
    "if(logreg.predict(test)[0] == 1):\n",
    "    print(\"True review with score of \", total_score)\n",
    "else:\n",
    "    print(\"Fake review with score of \", total_score)"
   ]
  },
  {
   "cell_type": "code",
   "execution_count": null,
   "metadata": {},
   "outputs": [],
   "source": [
    "test = input(\"Enter a sentence to be checked veview:  \")\n",
    "tokens = test.split(' ')\n",
    "pos_total = 0\n",
    "neg_total = 0\n",
    "for t in tokens:\n",
    "    syn_t = wnet.synsets(t)\n",
    "    if len(syn_t) > 0:\n",
    "        syn_t = syn_t[0]\n",
    "        senti_syn_t = swnet.senti_synset(syn_t.name())\n",
    "        if senti_syn_t.pos_score() > senti_syn_t.neg_score():\n",
    "            pos_total += senti_syn_t.pos_score()\n",
    "        else:\n",
    "            neg_total += senti_syn_t.neg_score()\n",
    "total_score = pos_total - neg_total\n",
    "\n",
    "x = CountVectorizer(analyzer=pre_process).fit(data['review'])\n",
    "test=x.transform([test])\n",
    "if(logreg.predict(test)[0] == 1):\n",
    "    print(\"True review with score of \", total_score)\n",
    "else:\n",
    "    print(\"Fake review with score of \", total_score)"
   ]
  },
  {
   "cell_type": "code",
   "execution_count": null,
   "metadata": {},
   "outputs": [],
   "source": [
    "test = input(\"Enter a sentence to be checked veview:  \")\n",
    "tokens = test.split(' ')\n",
    "pos_total = 0\n",
    "neg_total = 0\n",
    "for t in tokens:\n",
    "    syn_t = wnet.synsets(t)\n",
    "    if len(syn_t) > 0:\n",
    "        syn_t = syn_t[0]\n",
    "        senti_syn_t = swnet.senti_synset(syn_t.name())\n",
    "        if senti_syn_t.pos_score() > senti_syn_t.neg_score():\n",
    "            pos_total += senti_syn_t.pos_score()\n",
    "        else:\n",
    "            neg_total += senti_syn_t.neg_score()\n",
    "total_score = pos_total - neg_total\n",
    "\n",
    "x = CountVectorizer(analyzer=pre_process).fit(data['review'])\n",
    "test=x.transform([test])\n",
    "\n",
    "if(logreg.predict(test)[0] == 1):\n",
    "    print(\"True review with score of \", total_score)\n",
    "else:\n",
    "    print(\"Fake review with score of \", total_score)"
   ]
  },
  {
   "cell_type": "code",
   "execution_count": null,
   "metadata": {},
   "outputs": [],
   "source": [
    "test = input(\"Enter a sentence to be checked veview:  \")\n",
    "tokens = test.split(' ')\n",
    "pos_total = 0\n",
    "neg_total = 0\n",
    "for t in tokens:\n",
    "    syn_t = wnet.synsets(t)\n",
    "    if len(syn_t) > 0:\n",
    "        syn_t = syn_t[0]\n",
    "        senti_syn_t = swnet.senti_synset(syn_t.name())\n",
    "        if senti_syn_t.pos_score() > senti_syn_t.neg_score():\n",
    "            pos_total += senti_syn_t.pos_score()\n",
    "        else:\n",
    "            neg_total += senti_syn_t.neg_score()\n",
    "total_score = pos_total - neg_total\n",
    "\n",
    "x = CountVectorizer(analyzer=pre_process).fit(data['review'])\n",
    "test=x.transform([test])\n",
    "\n",
    "if(logreg.predict(test)[0] == 1):\n",
    "    print(\"True review with score of \", total_score)\n",
    "else:\n",
    "    print(\"Fake review with score of \", total_score)"
   ]
  },
  {
   "cell_type": "code",
   "execution_count": null,
   "metadata": {},
   "outputs": [],
   "source": []
  }
 ],
 "metadata": {
  "kernelspec": {
   "display_name": "Python 3",
   "language": "python",
   "name": "python3"
  },
  "language_info": {
   "codemirror_mode": {
    "name": "ipython",
    "version": 3
   },
   "file_extension": ".py",
   "mimetype": "text/x-python",
   "name": "python",
   "nbconvert_exporter": "python",
   "pygments_lexer": "ipython3",
   "version": "3.7.3"
  }
 },
 "nbformat": 4,
 "nbformat_minor": 2
}
